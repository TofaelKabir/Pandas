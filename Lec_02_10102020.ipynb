{
 "cells": [
  {
   "cell_type": "code",
   "execution_count": 1,
   "metadata": {},
   "outputs": [],
   "source": [
    "d = ['Tofael', 'Nishat', 'Shiplu', 'Sayem', 'Farruk']"
   ]
  },
  {
   "cell_type": "code",
   "execution_count": 2,
   "metadata": {},
   "outputs": [
    {
     "data": {
      "text/plain": [
       "['Tofael', 'Nishat', 'Shiplu', 'Sayem', 'Farruk']"
      ]
     },
     "execution_count": 2,
     "metadata": {},
     "output_type": "execute_result"
    }
   ],
   "source": [
    "d[0:5:1] # Initialization valu, conditional value, incremental/decremenatl value"
   ]
  },
  {
   "cell_type": "code",
   "execution_count": 3,
   "metadata": {},
   "outputs": [
    {
     "data": {
      "text/plain": [
       "['Shiplu', 'Sayem', 'Farruk']"
      ]
     },
     "execution_count": 3,
     "metadata": {},
     "output_type": "execute_result"
    }
   ],
   "source": [
    "d[2:5:1]"
   ]
  },
  {
   "cell_type": "code",
   "execution_count": 4,
   "metadata": {},
   "outputs": [
    {
     "data": {
      "text/plain": [
       "['Tofael', 'Nishat', 'Shiplu', 'Sayem', 'Farruk']"
      ]
     },
     "execution_count": 4,
     "metadata": {},
     "output_type": "execute_result"
    }
   ],
   "source": [
    "d[0:5]"
   ]
  },
  {
   "cell_type": "code",
   "execution_count": 5,
   "metadata": {},
   "outputs": [
    {
     "data": {
      "text/plain": [
       "['Shiplu', 'Sayem', 'Farruk']"
      ]
     },
     "execution_count": 5,
     "metadata": {},
     "output_type": "execute_result"
    }
   ],
   "source": [
    "d[2:]"
   ]
  },
  {
   "cell_type": "code",
   "execution_count": 6,
   "metadata": {},
   "outputs": [
    {
     "data": {
      "text/plain": [
       "['Tofael', 'Nishat', 'Shiplu']"
      ]
     },
     "execution_count": 6,
     "metadata": {},
     "output_type": "execute_result"
    }
   ],
   "source": [
    "d[:3]"
   ]
  },
  {
   "cell_type": "code",
   "execution_count": 7,
   "metadata": {},
   "outputs": [
    {
     "data": {
      "text/plain": [
       "['Tofael', 'Nishat', 'Shiplu', 'Sayem', 'Farruk']"
      ]
     },
     "execution_count": 7,
     "metadata": {},
     "output_type": "execute_result"
    }
   ],
   "source": [
    "d[:5]"
   ]
  },
  {
   "cell_type": "code",
   "execution_count": 8,
   "metadata": {},
   "outputs": [],
   "source": [
    "import pandas as pd"
   ]
  },
  {
   "cell_type": "code",
   "execution_count": 9,
   "metadata": {},
   "outputs": [],
   "source": [
    "dName = pd.Series(['Tofael', 'Nishat', 'Shiplu', 'Sayem', 'Farruk'], index = [483, 208, 504, 308, 223])"
   ]
  },
  {
   "cell_type": "code",
   "execution_count": 10,
   "metadata": {},
   "outputs": [
    {
     "data": {
      "text/plain": [
       "483    Tofael\n",
       "208    Nishat\n",
       "504    Shiplu\n",
       "308     Sayem\n",
       "223    Farruk\n",
       "dtype: object"
      ]
     },
     "execution_count": 10,
     "metadata": {},
     "output_type": "execute_result"
    }
   ],
   "source": [
    "dName"
   ]
  },
  {
   "cell_type": "code",
   "execution_count": 11,
   "metadata": {},
   "outputs": [
    {
     "data": {
      "text/plain": [
       "483    Tofael\n",
       "208    Nishat\n",
       "504    Shiplu\n",
       "308     Sayem\n",
       "223    Farruk\n",
       "dtype: object"
      ]
     },
     "execution_count": 11,
     "metadata": {},
     "output_type": "execute_result"
    }
   ],
   "source": [
    "dName[0:5:1]"
   ]
  },
  {
   "cell_type": "code",
   "execution_count": 12,
   "metadata": {},
   "outputs": [
    {
     "data": {
      "text/plain": [
       "504    Shiplu\n",
       "308     Sayem\n",
       "223    Farruk\n",
       "dtype: object"
      ]
     },
     "execution_count": 12,
     "metadata": {},
     "output_type": "execute_result"
    }
   ],
   "source": [
    "dName[2:5:1]"
   ]
  },
  {
   "cell_type": "code",
   "execution_count": 13,
   "metadata": {},
   "outputs": [
    {
     "data": {
      "text/plain": [
       "504    Shiplu\n",
       "308     Sayem\n",
       "223    Farruk\n",
       "dtype: object"
      ]
     },
     "execution_count": 13,
     "metadata": {},
     "output_type": "execute_result"
    }
   ],
   "source": [
    "dName[2:]"
   ]
  },
  {
   "cell_type": "code",
   "execution_count": 14,
   "metadata": {},
   "outputs": [
    {
     "data": {
      "text/plain": [
       "483    Tofael\n",
       "208    Nishat\n",
       "504    Shiplu\n",
       "308     Sayem\n",
       "223    Farruk\n",
       "dtype: object"
      ]
     },
     "execution_count": 14,
     "metadata": {},
     "output_type": "execute_result"
    }
   ],
   "source": [
    "dName[:5]"
   ]
  },
  {
   "cell_type": "code",
   "execution_count": 15,
   "metadata": {},
   "outputs": [
    {
     "data": {
      "text/plain": [
       "223    Farruk\n",
       "dtype: object"
      ]
     },
     "execution_count": 15,
     "metadata": {},
     "output_type": "execute_result"
    }
   ],
   "source": [
    "dName[-1:]"
   ]
  },
  {
   "cell_type": "code",
   "execution_count": 16,
   "metadata": {},
   "outputs": [
    {
     "data": {
      "text/plain": [
       "223    Farruk\n",
       "308     Sayem\n",
       "dtype: object"
      ]
     },
     "execution_count": 16,
     "metadata": {},
     "output_type": "execute_result"
    }
   ],
   "source": [
    "dName[-1:-3:-1]"
   ]
  },
  {
   "cell_type": "code",
   "execution_count": 50,
   "metadata": {},
   "outputs": [],
   "source": [
    "dName1 = pd.Series(['Tanvir ', 'Tofael K', 'Nishat S', 'Eric ', 'Shiplu R', 'Abu S', 'Farruk L'], index = [484, 483, 208, 333, 504, 308, 223])"
   ]
  },
  {
   "cell_type": "code",
   "execution_count": 51,
   "metadata": {},
   "outputs": [
    {
     "data": {
      "text/plain": [
       "484     Tanvir \n",
       "483    Tofael K\n",
       "208    Nishat S\n",
       "333       Eric \n",
       "504    Shiplu R\n",
       "308       Abu S\n",
       "223    Farruk L\n",
       "dtype: object"
      ]
     },
     "execution_count": 51,
     "metadata": {},
     "output_type": "execute_result"
    }
   ],
   "source": [
    "dName1"
   ]
  },
  {
   "cell_type": "code",
   "execution_count": 56,
   "metadata": {},
   "outputs": [],
   "source": [
    "dName2 = pd.Series(['abir', 'ultana', ' Rasel', 'ayem', 'oy', 'utful', ' Sam'], index = [483, 208, 405, 308, 504, 223, 101])"
   ]
  },
  {
   "cell_type": "code",
   "execution_count": 57,
   "metadata": {},
   "outputs": [
    {
     "data": {
      "text/plain": [
       "483      abir\n",
       "208    ultana\n",
       "405     Rasel\n",
       "308      ayem\n",
       "504        oy\n",
       "223     utful\n",
       "101       Sam\n",
       "dtype: object"
      ]
     },
     "execution_count": 57,
     "metadata": {},
     "output_type": "execute_result"
    }
   ],
   "source": [
    "dName2"
   ]
  },
  {
   "cell_type": "code",
   "execution_count": 54,
   "metadata": {},
   "outputs": [
    {
     "data": {
      "text/plain": [
       "101               NaN\n",
       "208    Nishat Sultana\n",
       "223     Farruk Lutful\n",
       "308         Abu Sayem\n",
       "333               NaN\n",
       "405               NaN\n",
       "483      Tofael Kabir\n",
       "484               NaN\n",
       "504        Shiplu Roy\n",
       "dtype: object"
      ]
     },
     "execution_count": 54,
     "metadata": {},
     "output_type": "execute_result"
    }
   ],
   "source": [
    "dName1+dName2 \n",
    "# They are coming numerically\n",
    "# How to solve problem of NaN"
   ]
  },
  {
   "cell_type": "code",
   "execution_count": 58,
   "metadata": {},
   "outputs": [
    {
     "data": {
      "text/plain": [
       "101          Khan Sam\n",
       "208    Nishat Sultana\n",
       "223     Farruk Lutful\n",
       "308         Abu Sayem\n",
       "333         Eric Khan\n",
       "405        Khan Rasel\n",
       "483      Tofael Kabir\n",
       "484       Tanvir Khan\n",
       "504        Shiplu Roy\n",
       "dtype: object"
      ]
     },
     "execution_count": 58,
     "metadata": {},
     "output_type": "execute_result"
    }
   ],
   "source": [
    "pd.Series.add(dName1, dName2, fill_value= 'Khan')"
   ]
  },
  {
   "cell_type": "code",
   "execution_count": 32,
   "metadata": {},
   "outputs": [],
   "source": [
    "#Day1 earning:\n",
    "de1 = pd.Series([55, 34, 45, 23, 77, 12, 45], index = ['Tanvir H', 'Tofael K', 'Nishat S', 'Eric S', 'Shiplu R', 'Abu S', 'Farruk L'])"
   ]
  },
  {
   "cell_type": "code",
   "execution_count": 33,
   "metadata": {},
   "outputs": [
    {
     "data": {
      "text/plain": [
       "Tanvir H    55\n",
       "Tofael K    34\n",
       "Nishat S    45\n",
       "Eric S      23\n",
       "Shiplu R    77\n",
       "Abu S       12\n",
       "Farruk L    45\n",
       "dtype: int64"
      ]
     },
     "execution_count": 33,
     "metadata": {},
     "output_type": "execute_result"
    }
   ],
   "source": [
    "de1"
   ]
  },
  {
   "cell_type": "code",
   "execution_count": 66,
   "metadata": {},
   "outputs": [],
   "source": [
    "#Day2 earning:\n",
    "de2 = pd.Series([75, 45, 45, 40, 53, 77, 52, 15], index = ['Tofael K', 'Nishat S', 'Eric S', 'Sam G', 'Lior Z', 'Shiplu R', 'Abu S', 'Farruk L'])"
   ]
  },
  {
   "cell_type": "code",
   "execution_count": 67,
   "metadata": {},
   "outputs": [
    {
     "data": {
      "text/plain": [
       "Tofael K    75\n",
       "Nishat S    45\n",
       "Eric S      45\n",
       "Sam G       40\n",
       "Lior Z      53\n",
       "Shiplu R    77\n",
       "Abu S       52\n",
       "Farruk L    15\n",
       "dtype: int64"
      ]
     },
     "execution_count": 67,
     "metadata": {},
     "output_type": "execute_result"
    }
   ],
   "source": [
    "de2"
   ]
  },
  {
   "cell_type": "code",
   "execution_count": 68,
   "metadata": {},
   "outputs": [
    {
     "data": {
      "text/plain": [
       "Abu S        64.0\n",
       "Eric S       68.0\n",
       "Farruk L     60.0\n",
       "Lior Z        NaN\n",
       "Nishat S     90.0\n",
       "Sam G         NaN\n",
       "Shiplu R    154.0\n",
       "Tanvir H      NaN\n",
       "Tofael K    109.0\n",
       "dtype: float64"
      ]
     },
     "execution_count": 68,
     "metadata": {},
     "output_type": "execute_result"
    }
   ],
   "source": [
    "de1+de2"
   ]
  },
  {
   "cell_type": "code",
   "execution_count": 69,
   "metadata": {},
   "outputs": [
    {
     "data": {
      "text/plain": [
       "Abu S        64.0\n",
       "Eric S       68.0\n",
       "Farruk L     60.0\n",
       "Lior Z        NaN\n",
       "Nishat S     90.0\n",
       "Sam G         NaN\n",
       "Shiplu R    154.0\n",
       "Tanvir H      NaN\n",
       "Tofael K    109.0\n",
       "dtype: float64"
      ]
     },
     "execution_count": 69,
     "metadata": {},
     "output_type": "execute_result"
    }
   ],
   "source": [
    "# https://pandas.pydata.org/pandas-docs/stable/reference/api/pandas.Series.add.html\n",
    "pd.Series.add(de1, de2, fill_value=None)"
   ]
  },
  {
   "cell_type": "code",
   "execution_count": 70,
   "metadata": {},
   "outputs": [
    {
     "data": {
      "text/plain": [
       "Abu S        64.0\n",
       "Eric S       68.0\n",
       "Farruk L     60.0\n",
       "Lior Z       53.0\n",
       "Nishat S     90.0\n",
       "Sam G        40.0\n",
       "Shiplu R    154.0\n",
       "Tanvir H     55.0\n",
       "Tofael K    109.0\n",
       "dtype: float64"
      ]
     },
     "execution_count": 70,
     "metadata": {},
     "output_type": "execute_result"
    }
   ],
   "source": [
    "pd.Series.add(de1, de2, fill_value=0.0)"
   ]
  },
  {
   "cell_type": "code",
   "execution_count": 72,
   "metadata": {},
   "outputs": [
    {
     "data": {
      "text/plain": [
       "Abu S       40.0\n",
       "Eric S      22.0\n",
       "Farruk L   -30.0\n",
       "Lior Z      53.0\n",
       "Nishat S     0.0\n",
       "Sam G       40.0\n",
       "Shiplu R     0.0\n",
       "Tanvir H   -55.0\n",
       "Tofael K    41.0\n",
       "dtype: float64"
      ]
     },
     "execution_count": 72,
     "metadata": {},
     "output_type": "execute_result"
    }
   ],
   "source": [
    "# https://pandas.pydata.org/pandas-docs/stable/reference/api/pandas.Series.subtract.html\n",
    "pd.Series.subtract(de2, de1, fill_value=0.0)"
   ]
  },
  {
   "cell_type": "code",
   "execution_count": 73,
   "metadata": {},
   "outputs": [
    {
     "data": {
      "text/plain": [
       "Abu S        624.0\n",
       "Eric S      1035.0\n",
       "Farruk L     675.0\n",
       "Lior Z        53.0\n",
       "Nishat S    2025.0\n",
       "Sam G         40.0\n",
       "Shiplu R    5929.0\n",
       "Tanvir H      55.0\n",
       "Tofael K    2550.0\n",
       "dtype: float64"
      ]
     },
     "execution_count": 73,
     "metadata": {},
     "output_type": "execute_result"
    }
   ],
   "source": [
    "pd.Series.multiply(de2, de1, fill_value=1)"
   ]
  },
  {
   "cell_type": "code",
   "execution_count": 74,
   "metadata": {},
   "outputs": [
    {
     "data": {
      "text/plain": [
       "Abu S        4.333333\n",
       "Eric S       1.956522\n",
       "Farruk L     0.333333\n",
       "Lior Z      53.000000\n",
       "Nishat S     1.000000\n",
       "Sam G       40.000000\n",
       "Shiplu R     1.000000\n",
       "Tanvir H     0.018182\n",
       "Tofael K     2.205882\n",
       "dtype: float64"
      ]
     },
     "execution_count": 74,
     "metadata": {},
     "output_type": "execute_result"
    }
   ],
   "source": [
    "pd.Series.divide(de2, de1, fill_value=1)"
   ]
  },
  {
   "cell_type": "code",
   "execution_count": 76,
   "metadata": {},
   "outputs": [],
   "source": [
    "# df = data frame\n",
    "# csv (coma separated value), excel (with space, like below), json (like dictionary) -- data type\n",
    "df = pd.read_excel('1.xlsx')"
   ]
  },
  {
   "cell_type": "code",
   "execution_count": 77,
   "metadata": {},
   "outputs": [
    {
     "data": {
      "text/html": [
       "<div>\n",
       "<style scoped>\n",
       "    .dataframe tbody tr th:only-of-type {\n",
       "        vertical-align: middle;\n",
       "    }\n",
       "\n",
       "    .dataframe tbody tr th {\n",
       "        vertical-align: top;\n",
       "    }\n",
       "\n",
       "    .dataframe thead th {\n",
       "        text-align: right;\n",
       "    }\n",
       "</style>\n",
       "<table border=\"1\" class=\"dataframe\">\n",
       "  <thead>\n",
       "    <tr style=\"text-align: right;\">\n",
       "      <th></th>\n",
       "      <th>Sample ID</th>\n",
       "      <th>ATP6V0A1</th>\n",
       "      <th>ERCC8</th>\n",
       "      <th>KAT8</th>\n",
       "      <th>SATB1</th>\n",
       "      <th>ZNF689</th>\n",
       "      <th>USP25</th>\n",
       "      <th>CLIC1</th>\n",
       "      <th>HLA-DQB1</th>\n",
       "      <th>NOD2</th>\n",
       "      <th>...</th>\n",
       "      <th>NMD3</th>\n",
       "      <th>STX4</th>\n",
       "      <th>HSD3B7</th>\n",
       "      <th>TREM1</th>\n",
       "      <th>DYRK1A</th>\n",
       "      <th>KANSL1</th>\n",
       "      <th>RAI1</th>\n",
       "      <th>ZNF668</th>\n",
       "      <th>STK39</th>\n",
       "      <th>CD33 Small</th>\n",
       "    </tr>\n",
       "  </thead>\n",
       "  <tbody>\n",
       "    <tr>\n",
       "      <th>0</th>\n",
       "      <td>6160</td>\n",
       "      <td>20.242665</td>\n",
       "      <td>22.149355</td>\n",
       "      <td>22.481120</td>\n",
       "      <td>23.955208</td>\n",
       "      <td>999.00000</td>\n",
       "      <td>20.518935</td>\n",
       "      <td>15.507264</td>\n",
       "      <td>999.000000</td>\n",
       "      <td>999</td>\n",
       "      <td>...</td>\n",
       "      <td>999</td>\n",
       "      <td>20.324768</td>\n",
       "      <td>18.891624</td>\n",
       "      <td>999.000000</td>\n",
       "      <td>22.725025</td>\n",
       "      <td>21.698889</td>\n",
       "      <td>28.129703</td>\n",
       "      <td>999.000000</td>\n",
       "      <td>26.751388</td>\n",
       "      <td>999</td>\n",
       "    </tr>\n",
       "    <tr>\n",
       "      <th>1</th>\n",
       "      <td>6223</td>\n",
       "      <td>19.942183</td>\n",
       "      <td>999.000000</td>\n",
       "      <td>23.465341</td>\n",
       "      <td>999.000000</td>\n",
       "      <td>23.73799</td>\n",
       "      <td>22.341004</td>\n",
       "      <td>16.980441</td>\n",
       "      <td>999.000000</td>\n",
       "      <td>999</td>\n",
       "      <td>...</td>\n",
       "      <td>999</td>\n",
       "      <td>21.330324</td>\n",
       "      <td>20.356576</td>\n",
       "      <td>27.947744</td>\n",
       "      <td>22.745296</td>\n",
       "      <td>22.881539</td>\n",
       "      <td>26.825927</td>\n",
       "      <td>25.752038</td>\n",
       "      <td>25.578252</td>\n",
       "      <td>999</td>\n",
       "    </tr>\n",
       "    <tr>\n",
       "      <th>2</th>\n",
       "      <td>6294</td>\n",
       "      <td>26.137418</td>\n",
       "      <td>999.000000</td>\n",
       "      <td>999.000000</td>\n",
       "      <td>999.000000</td>\n",
       "      <td>999.00000</td>\n",
       "      <td>999.000000</td>\n",
       "      <td>24.198615</td>\n",
       "      <td>999.000000</td>\n",
       "      <td>999</td>\n",
       "      <td>...</td>\n",
       "      <td>999</td>\n",
       "      <td>27.028663</td>\n",
       "      <td>999.000000</td>\n",
       "      <td>999.000000</td>\n",
       "      <td>999.000000</td>\n",
       "      <td>999.000000</td>\n",
       "      <td>999.000000</td>\n",
       "      <td>999.000000</td>\n",
       "      <td>999.000000</td>\n",
       "      <td>999</td>\n",
       "    </tr>\n",
       "    <tr>\n",
       "      <th>3</th>\n",
       "      <td>6124</td>\n",
       "      <td>24.259192</td>\n",
       "      <td>999.000000</td>\n",
       "      <td>999.000000</td>\n",
       "      <td>999.000000</td>\n",
       "      <td>999.00000</td>\n",
       "      <td>26.168270</td>\n",
       "      <td>21.344870</td>\n",
       "      <td>27.093832</td>\n",
       "      <td>999</td>\n",
       "      <td>...</td>\n",
       "      <td>999</td>\n",
       "      <td>28.118115</td>\n",
       "      <td>22.396131</td>\n",
       "      <td>999.000000</td>\n",
       "      <td>999.000000</td>\n",
       "      <td>26.252154</td>\n",
       "      <td>999.000000</td>\n",
       "      <td>999.000000</td>\n",
       "      <td>999.000000</td>\n",
       "      <td>999</td>\n",
       "    </tr>\n",
       "    <tr>\n",
       "      <th>4</th>\n",
       "      <td>6369</td>\n",
       "      <td>22.692935</td>\n",
       "      <td>999.000000</td>\n",
       "      <td>25.304070</td>\n",
       "      <td>999.000000</td>\n",
       "      <td>999.00000</td>\n",
       "      <td>27.527350</td>\n",
       "      <td>19.484585</td>\n",
       "      <td>999.000000</td>\n",
       "      <td>999</td>\n",
       "      <td>...</td>\n",
       "      <td>999</td>\n",
       "      <td>24.923577</td>\n",
       "      <td>22.693445</td>\n",
       "      <td>26.914716</td>\n",
       "      <td>999.000000</td>\n",
       "      <td>24.281761</td>\n",
       "      <td>27.496376</td>\n",
       "      <td>999.000000</td>\n",
       "      <td>26.880991</td>\n",
       "      <td>999</td>\n",
       "    </tr>\n",
       "  </tbody>\n",
       "</table>\n",
       "<p>5 rows × 97 columns</p>\n",
       "</div>"
      ],
      "text/plain": [
       "   Sample ID   ATP6V0A1       ERCC8        KAT8       SATB1     ZNF689  \\\n",
       "0       6160  20.242665   22.149355   22.481120   23.955208  999.00000   \n",
       "1       6223  19.942183  999.000000   23.465341  999.000000   23.73799   \n",
       "2       6294  26.137418  999.000000  999.000000  999.000000  999.00000   \n",
       "3       6124  24.259192  999.000000  999.000000  999.000000  999.00000   \n",
       "4       6369  22.692935  999.000000   25.304070  999.000000  999.00000   \n",
       "\n",
       "        USP25      CLIC1    HLA-DQB1  NOD2  ...  NMD3       STX4      HSD3B7  \\\n",
       "0   20.518935  15.507264  999.000000   999  ...   999  20.324768   18.891624   \n",
       "1   22.341004  16.980441  999.000000   999  ...   999  21.330324   20.356576   \n",
       "2  999.000000  24.198615  999.000000   999  ...   999  27.028663  999.000000   \n",
       "3   26.168270  21.344870   27.093832   999  ...   999  28.118115   22.396131   \n",
       "4   27.527350  19.484585  999.000000   999  ...   999  24.923577   22.693445   \n",
       "\n",
       "        TREM1      DYRK1A      KANSL1        RAI1      ZNF668       STK39  \\\n",
       "0  999.000000   22.725025   21.698889   28.129703  999.000000   26.751388   \n",
       "1   27.947744   22.745296   22.881539   26.825927   25.752038   25.578252   \n",
       "2  999.000000  999.000000  999.000000  999.000000  999.000000  999.000000   \n",
       "3  999.000000  999.000000   26.252154  999.000000  999.000000  999.000000   \n",
       "4   26.914716  999.000000   24.281761   27.496376  999.000000   26.880991   \n",
       "\n",
       "   CD33 Small  \n",
       "0         999  \n",
       "1         999  \n",
       "2         999  \n",
       "3         999  \n",
       "4         999  \n",
       "\n",
       "[5 rows x 97 columns]"
      ]
     },
     "execution_count": 77,
     "metadata": {},
     "output_type": "execute_result"
    }
   ],
   "source": [
    "df\n",
    "# here index column is ceated"
   ]
  },
  {
   "cell_type": "code",
   "execution_count": 78,
   "metadata": {},
   "outputs": [
    {
     "data": {
      "text/plain": [
       "(5, 97)"
      ]
     },
     "execution_count": 78,
     "metadata": {},
     "output_type": "execute_result"
    }
   ],
   "source": [
    "df.shape # determine the size of row and column"
   ]
  },
  {
   "cell_type": "code",
   "execution_count": 79,
   "metadata": {},
   "outputs": [
    {
     "data": {
      "text/plain": [
       "Index(['Sample ID', 'ATP6V0A1', 'ERCC8', 'KAT8', 'SATB1', 'ZNF689', 'USP25',\n",
       "       'CLIC1', 'HLA-DQB1', 'NOD2', 'SYT11', 'INPP5F', 'CD14', 'BAG3', 'GALC',\n",
       "       'KPNA1', 'SCARB2', 'ALAS1', 'VAMP4', 'CNOT1', 'HSPA1A', 'PAM', 'TIAL1',\n",
       "       'LRRC37A2', 'HLA-DRA', 'BAG6', 'GAPDH', 'LAT', 'SIPA1L2', 'ARHGAP27',\n",
       "       'TMEM175', 'CSNK2B', 'IL1R2', 'PARP9', 'TOM1L2', 'LRRC37A4P',\n",
       "       'HLA-DRB1', 'BCKDK', 'GBA', 'LMNA', 'SNCA', 'ARL17A', 'VKORC1L1',\n",
       "       'CYLD', 'ITGAM', 'POLR2A', 'TRIM26', 'MCCC1', 'FYN', 'CAMK2D', 'GPNMB',\n",
       "       'LRRC37A', 'SORBS3', 'BST1', 'ZNF184', 'DDRGK1', 'ITGAX', 'PRKAR2A',\n",
       "       'USP19', 'NCKIPSD', 'FCGR2A', 'CCAR2', 'GTF2H3', 'LRRK2', 'SREBF1',\n",
       "       'GAK', 'NFKB2', 'DGKQ', 'ITPA', 'RAB7L1', 'VKORC1', 'RILPL2', 'CTSB',\n",
       "       'CDK2AP1', 'HLA-DQA1', 'NCKIPSD.1', 'STBD1', 'HLA-DRB5', 'NUPL2',\n",
       "       'DTX3L', 'ITPKB', 'RABGEF1', 'VPS13C', 'SPPL2B', 'CD33 Large', 'CHMP2B',\n",
       "       'HLA-DQA2', 'NMD3', 'STX4', 'HSD3B7', 'TREM1', 'DYRK1A', 'KANSL1',\n",
       "       'RAI1', 'ZNF668', 'STK39', 'CD33 Small'],\n",
       "      dtype='object')"
      ]
     },
     "execution_count": 79,
     "metadata": {},
     "output_type": "execute_result"
    }
   ],
   "source": [
    "df.columns # All the column will be printed"
   ]
  },
  {
   "cell_type": "code",
   "execution_count": 80,
   "metadata": {},
   "outputs": [
    {
     "data": {
      "text/plain": [
       "'ZNF689'"
      ]
     },
     "execution_count": 80,
     "metadata": {},
     "output_type": "execute_result"
    }
   ],
   "source": [
    "df.columns[5] # to know about a specific column"
   ]
  },
  {
   "cell_type": "code",
   "execution_count": 83,
   "metadata": {},
   "outputs": [],
   "source": [
    "# There is some value we need to exclude, those came through machine\n",
    "# https://pandas.pydata.org/pandas-docs/stable/reference/api/pandas.read_excel.html\n",
    "df2 = pd.read_excel('1.xlsx', index_col='Sample ID')"
   ]
  },
  {
   "cell_type": "code",
   "execution_count": 84,
   "metadata": {},
   "outputs": [
    {
     "data": {
      "text/html": [
       "<div>\n",
       "<style scoped>\n",
       "    .dataframe tbody tr th:only-of-type {\n",
       "        vertical-align: middle;\n",
       "    }\n",
       "\n",
       "    .dataframe tbody tr th {\n",
       "        vertical-align: top;\n",
       "    }\n",
       "\n",
       "    .dataframe thead th {\n",
       "        text-align: right;\n",
       "    }\n",
       "</style>\n",
       "<table border=\"1\" class=\"dataframe\">\n",
       "  <thead>\n",
       "    <tr style=\"text-align: right;\">\n",
       "      <th></th>\n",
       "      <th>ATP6V0A1</th>\n",
       "      <th>ERCC8</th>\n",
       "      <th>KAT8</th>\n",
       "      <th>SATB1</th>\n",
       "      <th>ZNF689</th>\n",
       "      <th>USP25</th>\n",
       "      <th>CLIC1</th>\n",
       "      <th>HLA-DQB1</th>\n",
       "      <th>NOD2</th>\n",
       "      <th>SYT11</th>\n",
       "      <th>...</th>\n",
       "      <th>NMD3</th>\n",
       "      <th>STX4</th>\n",
       "      <th>HSD3B7</th>\n",
       "      <th>TREM1</th>\n",
       "      <th>DYRK1A</th>\n",
       "      <th>KANSL1</th>\n",
       "      <th>RAI1</th>\n",
       "      <th>ZNF668</th>\n",
       "      <th>STK39</th>\n",
       "      <th>CD33 Small</th>\n",
       "    </tr>\n",
       "    <tr>\n",
       "      <th>Sample ID</th>\n",
       "      <th></th>\n",
       "      <th></th>\n",
       "      <th></th>\n",
       "      <th></th>\n",
       "      <th></th>\n",
       "      <th></th>\n",
       "      <th></th>\n",
       "      <th></th>\n",
       "      <th></th>\n",
       "      <th></th>\n",
       "      <th></th>\n",
       "      <th></th>\n",
       "      <th></th>\n",
       "      <th></th>\n",
       "      <th></th>\n",
       "      <th></th>\n",
       "      <th></th>\n",
       "      <th></th>\n",
       "      <th></th>\n",
       "      <th></th>\n",
       "      <th></th>\n",
       "    </tr>\n",
       "  </thead>\n",
       "  <tbody>\n",
       "    <tr>\n",
       "      <th>6160</th>\n",
       "      <td>20.242665</td>\n",
       "      <td>22.149355</td>\n",
       "      <td>22.481120</td>\n",
       "      <td>23.955208</td>\n",
       "      <td>999.00000</td>\n",
       "      <td>20.518935</td>\n",
       "      <td>15.507264</td>\n",
       "      <td>999.000000</td>\n",
       "      <td>999</td>\n",
       "      <td>999.000000</td>\n",
       "      <td>...</td>\n",
       "      <td>999</td>\n",
       "      <td>20.324768</td>\n",
       "      <td>18.891624</td>\n",
       "      <td>999.000000</td>\n",
       "      <td>22.725025</td>\n",
       "      <td>21.698889</td>\n",
       "      <td>28.129703</td>\n",
       "      <td>999.000000</td>\n",
       "      <td>26.751388</td>\n",
       "      <td>999</td>\n",
       "    </tr>\n",
       "    <tr>\n",
       "      <th>6223</th>\n",
       "      <td>19.942183</td>\n",
       "      <td>999.000000</td>\n",
       "      <td>23.465341</td>\n",
       "      <td>999.000000</td>\n",
       "      <td>23.73799</td>\n",
       "      <td>22.341004</td>\n",
       "      <td>16.980441</td>\n",
       "      <td>999.000000</td>\n",
       "      <td>999</td>\n",
       "      <td>24.733509</td>\n",
       "      <td>...</td>\n",
       "      <td>999</td>\n",
       "      <td>21.330324</td>\n",
       "      <td>20.356576</td>\n",
       "      <td>27.947744</td>\n",
       "      <td>22.745296</td>\n",
       "      <td>22.881539</td>\n",
       "      <td>26.825927</td>\n",
       "      <td>25.752038</td>\n",
       "      <td>25.578252</td>\n",
       "      <td>999</td>\n",
       "    </tr>\n",
       "    <tr>\n",
       "      <th>6294</th>\n",
       "      <td>26.137418</td>\n",
       "      <td>999.000000</td>\n",
       "      <td>999.000000</td>\n",
       "      <td>999.000000</td>\n",
       "      <td>999.00000</td>\n",
       "      <td>999.000000</td>\n",
       "      <td>24.198615</td>\n",
       "      <td>999.000000</td>\n",
       "      <td>999</td>\n",
       "      <td>999.000000</td>\n",
       "      <td>...</td>\n",
       "      <td>999</td>\n",
       "      <td>27.028663</td>\n",
       "      <td>999.000000</td>\n",
       "      <td>999.000000</td>\n",
       "      <td>999.000000</td>\n",
       "      <td>999.000000</td>\n",
       "      <td>999.000000</td>\n",
       "      <td>999.000000</td>\n",
       "      <td>999.000000</td>\n",
       "      <td>999</td>\n",
       "    </tr>\n",
       "    <tr>\n",
       "      <th>6124</th>\n",
       "      <td>24.259192</td>\n",
       "      <td>999.000000</td>\n",
       "      <td>999.000000</td>\n",
       "      <td>999.000000</td>\n",
       "      <td>999.00000</td>\n",
       "      <td>26.168270</td>\n",
       "      <td>21.344870</td>\n",
       "      <td>27.093832</td>\n",
       "      <td>999</td>\n",
       "      <td>999.000000</td>\n",
       "      <td>...</td>\n",
       "      <td>999</td>\n",
       "      <td>28.118115</td>\n",
       "      <td>22.396131</td>\n",
       "      <td>999.000000</td>\n",
       "      <td>999.000000</td>\n",
       "      <td>26.252154</td>\n",
       "      <td>999.000000</td>\n",
       "      <td>999.000000</td>\n",
       "      <td>999.000000</td>\n",
       "      <td>999</td>\n",
       "    </tr>\n",
       "    <tr>\n",
       "      <th>6369</th>\n",
       "      <td>22.692935</td>\n",
       "      <td>999.000000</td>\n",
       "      <td>25.304070</td>\n",
       "      <td>999.000000</td>\n",
       "      <td>999.00000</td>\n",
       "      <td>27.527350</td>\n",
       "      <td>19.484585</td>\n",
       "      <td>999.000000</td>\n",
       "      <td>999</td>\n",
       "      <td>999.000000</td>\n",
       "      <td>...</td>\n",
       "      <td>999</td>\n",
       "      <td>24.923577</td>\n",
       "      <td>22.693445</td>\n",
       "      <td>26.914716</td>\n",
       "      <td>999.000000</td>\n",
       "      <td>24.281761</td>\n",
       "      <td>27.496376</td>\n",
       "      <td>999.000000</td>\n",
       "      <td>26.880991</td>\n",
       "      <td>999</td>\n",
       "    </tr>\n",
       "  </tbody>\n",
       "</table>\n",
       "<p>5 rows × 96 columns</p>\n",
       "</div>"
      ],
      "text/plain": [
       "            ATP6V0A1       ERCC8        KAT8       SATB1     ZNF689  \\\n",
       "Sample ID                                                             \n",
       "6160       20.242665   22.149355   22.481120   23.955208  999.00000   \n",
       "6223       19.942183  999.000000   23.465341  999.000000   23.73799   \n",
       "6294       26.137418  999.000000  999.000000  999.000000  999.00000   \n",
       "6124       24.259192  999.000000  999.000000  999.000000  999.00000   \n",
       "6369       22.692935  999.000000   25.304070  999.000000  999.00000   \n",
       "\n",
       "                USP25      CLIC1    HLA-DQB1  NOD2       SYT11  ...  NMD3  \\\n",
       "Sample ID                                                       ...         \n",
       "6160        20.518935  15.507264  999.000000   999  999.000000  ...   999   \n",
       "6223        22.341004  16.980441  999.000000   999   24.733509  ...   999   \n",
       "6294       999.000000  24.198615  999.000000   999  999.000000  ...   999   \n",
       "6124        26.168270  21.344870   27.093832   999  999.000000  ...   999   \n",
       "6369        27.527350  19.484585  999.000000   999  999.000000  ...   999   \n",
       "\n",
       "                STX4      HSD3B7       TREM1      DYRK1A      KANSL1  \\\n",
       "Sample ID                                                              \n",
       "6160       20.324768   18.891624  999.000000   22.725025   21.698889   \n",
       "6223       21.330324   20.356576   27.947744   22.745296   22.881539   \n",
       "6294       27.028663  999.000000  999.000000  999.000000  999.000000   \n",
       "6124       28.118115   22.396131  999.000000  999.000000   26.252154   \n",
       "6369       24.923577   22.693445   26.914716  999.000000   24.281761   \n",
       "\n",
       "                 RAI1      ZNF668       STK39  CD33 Small  \n",
       "Sample ID                                                  \n",
       "6160        28.129703  999.000000   26.751388         999  \n",
       "6223        26.825927   25.752038   25.578252         999  \n",
       "6294       999.000000  999.000000  999.000000         999  \n",
       "6124       999.000000  999.000000  999.000000         999  \n",
       "6369        27.496376  999.000000   26.880991         999  \n",
       "\n",
       "[5 rows x 96 columns]"
      ]
     },
     "execution_count": 84,
     "metadata": {},
     "output_type": "execute_result"
    }
   ],
   "source": [
    "df2\n",
    "#Here Sample ID become the index column"
   ]
  },
  {
   "cell_type": "code",
   "execution_count": 88,
   "metadata": {},
   "outputs": [],
   "source": [
    "#see 2.xlsx which have unnecessary data on first 4 rows, so we have to use header to avoid them\n",
    "# if there is no space on top to remove then can use header = 0\n",
    "df3 = pd.read_excel('2.xlsx', index_col='Sample ID', header = 4)"
   ]
  },
  {
   "cell_type": "code",
   "execution_count": 89,
   "metadata": {},
   "outputs": [
    {
     "data": {
      "text/html": [
       "<div>\n",
       "<style scoped>\n",
       "    .dataframe tbody tr th:only-of-type {\n",
       "        vertical-align: middle;\n",
       "    }\n",
       "\n",
       "    .dataframe tbody tr th {\n",
       "        vertical-align: top;\n",
       "    }\n",
       "\n",
       "    .dataframe thead th {\n",
       "        text-align: right;\n",
       "    }\n",
       "</style>\n",
       "<table border=\"1\" class=\"dataframe\">\n",
       "  <thead>\n",
       "    <tr style=\"text-align: right;\">\n",
       "      <th></th>\n",
       "      <th>ATP6V0A1</th>\n",
       "      <th>ERCC8</th>\n",
       "      <th>KAT8</th>\n",
       "      <th>SATB1</th>\n",
       "      <th>ZNF689</th>\n",
       "      <th>USP25</th>\n",
       "      <th>CLIC1</th>\n",
       "      <th>HLA-DQB1</th>\n",
       "      <th>NOD2</th>\n",
       "      <th>SYT11</th>\n",
       "      <th>INPP5F</th>\n",
       "      <th>CD14</th>\n",
       "      <th>BAG3</th>\n",
       "      <th>GALC</th>\n",
       "      <th>KPNA1</th>\n",
       "      <th>SCARB2</th>\n",
       "      <th>ALAS1</th>\n",
       "      <th>VAMP4</th>\n",
       "    </tr>\n",
       "    <tr>\n",
       "      <th>Sample ID</th>\n",
       "      <th></th>\n",
       "      <th></th>\n",
       "      <th></th>\n",
       "      <th></th>\n",
       "      <th></th>\n",
       "      <th></th>\n",
       "      <th></th>\n",
       "      <th></th>\n",
       "      <th></th>\n",
       "      <th></th>\n",
       "      <th></th>\n",
       "      <th></th>\n",
       "      <th></th>\n",
       "      <th></th>\n",
       "      <th></th>\n",
       "      <th></th>\n",
       "      <th></th>\n",
       "      <th></th>\n",
       "    </tr>\n",
       "  </thead>\n",
       "  <tbody>\n",
       "    <tr>\n",
       "      <th>6160</th>\n",
       "      <td>20.242665</td>\n",
       "      <td>22.149355</td>\n",
       "      <td>22.481120</td>\n",
       "      <td>23.955208</td>\n",
       "      <td>999.00000</td>\n",
       "      <td>20.518935</td>\n",
       "      <td>15.507264</td>\n",
       "      <td>999.000000</td>\n",
       "      <td>999</td>\n",
       "      <td>999.000000</td>\n",
       "      <td>999</td>\n",
       "      <td>23.164132</td>\n",
       "      <td>22.029404</td>\n",
       "      <td>23.141682</td>\n",
       "      <td>21.752198</td>\n",
       "      <td>19.663770</td>\n",
       "      <td>20.328364</td>\n",
       "      <td>22.710356</td>\n",
       "    </tr>\n",
       "    <tr>\n",
       "      <th>6223</th>\n",
       "      <td>19.942183</td>\n",
       "      <td>999.000000</td>\n",
       "      <td>23.465341</td>\n",
       "      <td>999.000000</td>\n",
       "      <td>23.73799</td>\n",
       "      <td>22.341004</td>\n",
       "      <td>16.980441</td>\n",
       "      <td>999.000000</td>\n",
       "      <td>999</td>\n",
       "      <td>24.733509</td>\n",
       "      <td>999</td>\n",
       "      <td>19.049272</td>\n",
       "      <td>23.869967</td>\n",
       "      <td>27.244976</td>\n",
       "      <td>23.233811</td>\n",
       "      <td>20.416863</td>\n",
       "      <td>21.092358</td>\n",
       "      <td>24.399914</td>\n",
       "    </tr>\n",
       "    <tr>\n",
       "      <th>6294</th>\n",
       "      <td>26.137418</td>\n",
       "      <td>999.000000</td>\n",
       "      <td>999.000000</td>\n",
       "      <td>999.000000</td>\n",
       "      <td>999.00000</td>\n",
       "      <td>999.000000</td>\n",
       "      <td>24.198615</td>\n",
       "      <td>999.000000</td>\n",
       "      <td>999</td>\n",
       "      <td>999.000000</td>\n",
       "      <td>999</td>\n",
       "      <td>999.000000</td>\n",
       "      <td>999.000000</td>\n",
       "      <td>999.000000</td>\n",
       "      <td>999.000000</td>\n",
       "      <td>27.988659</td>\n",
       "      <td>26.728114</td>\n",
       "      <td>999.000000</td>\n",
       "    </tr>\n",
       "    <tr>\n",
       "      <th>6124</th>\n",
       "      <td>24.259192</td>\n",
       "      <td>999.000000</td>\n",
       "      <td>999.000000</td>\n",
       "      <td>999.000000</td>\n",
       "      <td>999.00000</td>\n",
       "      <td>26.168270</td>\n",
       "      <td>21.344870</td>\n",
       "      <td>27.093832</td>\n",
       "      <td>999</td>\n",
       "      <td>999.000000</td>\n",
       "      <td>999</td>\n",
       "      <td>999.000000</td>\n",
       "      <td>27.687824</td>\n",
       "      <td>27.401336</td>\n",
       "      <td>999.000000</td>\n",
       "      <td>22.965413</td>\n",
       "      <td>24.681684</td>\n",
       "      <td>24.235368</td>\n",
       "    </tr>\n",
       "    <tr>\n",
       "      <th>6369</th>\n",
       "      <td>22.692935</td>\n",
       "      <td>999.000000</td>\n",
       "      <td>25.304070</td>\n",
       "      <td>999.000000</td>\n",
       "      <td>999.00000</td>\n",
       "      <td>27.527350</td>\n",
       "      <td>19.484585</td>\n",
       "      <td>999.000000</td>\n",
       "      <td>999</td>\n",
       "      <td>999.000000</td>\n",
       "      <td>999</td>\n",
       "      <td>24.807826</td>\n",
       "      <td>26.813003</td>\n",
       "      <td>24.584745</td>\n",
       "      <td>25.163668</td>\n",
       "      <td>23.515037</td>\n",
       "      <td>23.338091</td>\n",
       "      <td>24.687817</td>\n",
       "    </tr>\n",
       "  </tbody>\n",
       "</table>\n",
       "</div>"
      ],
      "text/plain": [
       "            ATP6V0A1       ERCC8        KAT8       SATB1     ZNF689  \\\n",
       "Sample ID                                                             \n",
       "6160       20.242665   22.149355   22.481120   23.955208  999.00000   \n",
       "6223       19.942183  999.000000   23.465341  999.000000   23.73799   \n",
       "6294       26.137418  999.000000  999.000000  999.000000  999.00000   \n",
       "6124       24.259192  999.000000  999.000000  999.000000  999.00000   \n",
       "6369       22.692935  999.000000   25.304070  999.000000  999.00000   \n",
       "\n",
       "                USP25      CLIC1    HLA-DQB1  NOD2       SYT11  INPP5F  \\\n",
       "Sample ID                                                                \n",
       "6160        20.518935  15.507264  999.000000   999  999.000000     999   \n",
       "6223        22.341004  16.980441  999.000000   999   24.733509     999   \n",
       "6294       999.000000  24.198615  999.000000   999  999.000000     999   \n",
       "6124        26.168270  21.344870   27.093832   999  999.000000     999   \n",
       "6369        27.527350  19.484585  999.000000   999  999.000000     999   \n",
       "\n",
       "                 CD14        BAG3        GALC       KPNA1     SCARB2  \\\n",
       "Sample ID                                                              \n",
       "6160        23.164132   22.029404   23.141682   21.752198  19.663770   \n",
       "6223        19.049272   23.869967   27.244976   23.233811  20.416863   \n",
       "6294       999.000000  999.000000  999.000000  999.000000  27.988659   \n",
       "6124       999.000000   27.687824   27.401336  999.000000  22.965413   \n",
       "6369        24.807826   26.813003   24.584745   25.163668  23.515037   \n",
       "\n",
       "               ALAS1       VAMP4  \n",
       "Sample ID                         \n",
       "6160       20.328364   22.710356  \n",
       "6223       21.092358   24.399914  \n",
       "6294       26.728114  999.000000  \n",
       "6124       24.681684   24.235368  \n",
       "6369       23.338091   24.687817  "
      ]
     },
     "execution_count": 89,
     "metadata": {},
     "output_type": "execute_result"
    }
   ],
   "source": [
    "df3"
   ]
  },
  {
   "cell_type": "code",
   "execution_count": 93,
   "metadata": {},
   "outputs": [],
   "source": [
    "# if all the cloumns are not necessary to analyze\n",
    "# header=0 is used\n",
    "# Sampele ID must be present in useclos\n",
    "df4 = pd.read_excel('1.xlsx', index_col='Sample ID', header=0, usecols=['Sample ID','ATP6V0A1','SATB1', 'USP25', 'CLIC1'])"
   ]
  },
  {
   "cell_type": "code",
   "execution_count": 94,
   "metadata": {},
   "outputs": [
    {
     "data": {
      "text/html": [
       "<div>\n",
       "<style scoped>\n",
       "    .dataframe tbody tr th:only-of-type {\n",
       "        vertical-align: middle;\n",
       "    }\n",
       "\n",
       "    .dataframe tbody tr th {\n",
       "        vertical-align: top;\n",
       "    }\n",
       "\n",
       "    .dataframe thead th {\n",
       "        text-align: right;\n",
       "    }\n",
       "</style>\n",
       "<table border=\"1\" class=\"dataframe\">\n",
       "  <thead>\n",
       "    <tr style=\"text-align: right;\">\n",
       "      <th></th>\n",
       "      <th>ATP6V0A1</th>\n",
       "      <th>SATB1</th>\n",
       "      <th>USP25</th>\n",
       "      <th>CLIC1</th>\n",
       "    </tr>\n",
       "    <tr>\n",
       "      <th>Sample ID</th>\n",
       "      <th></th>\n",
       "      <th></th>\n",
       "      <th></th>\n",
       "      <th></th>\n",
       "    </tr>\n",
       "  </thead>\n",
       "  <tbody>\n",
       "    <tr>\n",
       "      <th>6160</th>\n",
       "      <td>20.242665</td>\n",
       "      <td>23.955208</td>\n",
       "      <td>20.518935</td>\n",
       "      <td>15.507264</td>\n",
       "    </tr>\n",
       "    <tr>\n",
       "      <th>6223</th>\n",
       "      <td>19.942183</td>\n",
       "      <td>999.000000</td>\n",
       "      <td>22.341004</td>\n",
       "      <td>16.980441</td>\n",
       "    </tr>\n",
       "    <tr>\n",
       "      <th>6294</th>\n",
       "      <td>26.137418</td>\n",
       "      <td>999.000000</td>\n",
       "      <td>999.000000</td>\n",
       "      <td>24.198615</td>\n",
       "    </tr>\n",
       "    <tr>\n",
       "      <th>6124</th>\n",
       "      <td>24.259192</td>\n",
       "      <td>999.000000</td>\n",
       "      <td>26.168270</td>\n",
       "      <td>21.344870</td>\n",
       "    </tr>\n",
       "    <tr>\n",
       "      <th>6369</th>\n",
       "      <td>22.692935</td>\n",
       "      <td>999.000000</td>\n",
       "      <td>27.527350</td>\n",
       "      <td>19.484585</td>\n",
       "    </tr>\n",
       "  </tbody>\n",
       "</table>\n",
       "</div>"
      ],
      "text/plain": [
       "            ATP6V0A1       SATB1       USP25      CLIC1\n",
       "Sample ID                                              \n",
       "6160       20.242665   23.955208   20.518935  15.507264\n",
       "6223       19.942183  999.000000   22.341004  16.980441\n",
       "6294       26.137418  999.000000  999.000000  24.198615\n",
       "6124       24.259192  999.000000   26.168270  21.344870\n",
       "6369       22.692935  999.000000   27.527350  19.484585"
      ]
     },
     "execution_count": 94,
     "metadata": {},
     "output_type": "execute_result"
    }
   ],
   "source": [
    "df4"
   ]
  },
  {
   "cell_type": "code",
   "execution_count": 95,
   "metadata": {},
   "outputs": [],
   "source": [
    "#if I need to take 40 cloumns whihc is difficult to type. then what to do\n",
    "df5 = pd.read_excel('1.xlsx')"
   ]
  },
  {
   "cell_type": "code",
   "execution_count": 97,
   "metadata": {},
   "outputs": [],
   "source": [
    "col = df5.columns"
   ]
  },
  {
   "cell_type": "code",
   "execution_count": 98,
   "metadata": {},
   "outputs": [
    {
     "data": {
      "text/plain": [
       "Index(['Sample ID', 'ATP6V0A1', 'ERCC8', 'KAT8', 'SATB1', 'ZNF689', 'USP25',\n",
       "       'CLIC1', 'HLA-DQB1', 'NOD2', 'SYT11', 'INPP5F', 'CD14', 'BAG3', 'GALC',\n",
       "       'KPNA1', 'SCARB2', 'ALAS1', 'VAMP4', 'CNOT1', 'HSPA1A', 'PAM', 'TIAL1',\n",
       "       'LRRC37A2', 'HLA-DRA', 'BAG6', 'GAPDH', 'LAT', 'SIPA1L2', 'ARHGAP27',\n",
       "       'TMEM175', 'CSNK2B', 'IL1R2', 'PARP9', 'TOM1L2', 'LRRC37A4P',\n",
       "       'HLA-DRB1', 'BCKDK', 'GBA', 'LMNA', 'SNCA', 'ARL17A', 'VKORC1L1',\n",
       "       'CYLD', 'ITGAM', 'POLR2A', 'TRIM26', 'MCCC1', 'FYN', 'CAMK2D', 'GPNMB',\n",
       "       'LRRC37A', 'SORBS3', 'BST1', 'ZNF184', 'DDRGK1', 'ITGAX', 'PRKAR2A',\n",
       "       'USP19', 'NCKIPSD', 'FCGR2A', 'CCAR2', 'GTF2H3', 'LRRK2', 'SREBF1',\n",
       "       'GAK', 'NFKB2', 'DGKQ', 'ITPA', 'RAB7L1', 'VKORC1', 'RILPL2', 'CTSB',\n",
       "       'CDK2AP1', 'HLA-DQA1', 'NCKIPSD.1', 'STBD1', 'HLA-DRB5', 'NUPL2',\n",
       "       'DTX3L', 'ITPKB', 'RABGEF1', 'VPS13C', 'SPPL2B', 'CD33 Large', 'CHMP2B',\n",
       "       'HLA-DQA2', 'NMD3', 'STX4', 'HSD3B7', 'TREM1', 'DYRK1A', 'KANSL1',\n",
       "       'RAI1', 'ZNF668', 'STK39', 'CD33 Small'],\n",
       "      dtype='object')"
      ]
     },
     "execution_count": 98,
     "metadata": {},
     "output_type": "execute_result"
    }
   ],
   "source": [
    "col"
   ]
  },
  {
   "cell_type": "code",
   "execution_count": 99,
   "metadata": {},
   "outputs": [],
   "source": [
    "my_col= col[0:45]"
   ]
  },
  {
   "cell_type": "code",
   "execution_count": 102,
   "metadata": {},
   "outputs": [
    {
     "data": {
      "text/plain": [
       "Index(['Sample ID', 'ATP6V0A1', 'ERCC8', 'KAT8', 'SATB1', 'ZNF689', 'USP25',\n",
       "       'CLIC1', 'HLA-DQB1', 'NOD2', 'SYT11', 'INPP5F', 'CD14', 'BAG3', 'GALC',\n",
       "       'KPNA1', 'SCARB2', 'ALAS1', 'VAMP4', 'CNOT1', 'HSPA1A', 'PAM', 'TIAL1',\n",
       "       'LRRC37A2', 'HLA-DRA', 'BAG6', 'GAPDH', 'LAT', 'SIPA1L2', 'ARHGAP27',\n",
       "       'TMEM175', 'CSNK2B', 'IL1R2', 'PARP9', 'TOM1L2', 'LRRC37A4P',\n",
       "       'HLA-DRB1', 'BCKDK', 'GBA', 'LMNA', 'SNCA', 'ARL17A', 'VKORC1L1',\n",
       "       'CYLD', 'ITGAM'],\n",
       "      dtype='object')"
      ]
     },
     "execution_count": 102,
     "metadata": {},
     "output_type": "execute_result"
    }
   ],
   "source": [
    "my_col"
   ]
  },
  {
   "cell_type": "code",
   "execution_count": 105,
   "metadata": {},
   "outputs": [],
   "source": [
    "df6 = pd.read_excel('1.xlsx', index_col='Sample ID', header=0, usecols=my_col)"
   ]
  },
  {
   "cell_type": "code",
   "execution_count": 106,
   "metadata": {},
   "outputs": [
    {
     "data": {
      "text/html": [
       "<div>\n",
       "<style scoped>\n",
       "    .dataframe tbody tr th:only-of-type {\n",
       "        vertical-align: middle;\n",
       "    }\n",
       "\n",
       "    .dataframe tbody tr th {\n",
       "        vertical-align: top;\n",
       "    }\n",
       "\n",
       "    .dataframe thead th {\n",
       "        text-align: right;\n",
       "    }\n",
       "</style>\n",
       "<table border=\"1\" class=\"dataframe\">\n",
       "  <thead>\n",
       "    <tr style=\"text-align: right;\">\n",
       "      <th></th>\n",
       "      <th>ATP6V0A1</th>\n",
       "      <th>ERCC8</th>\n",
       "      <th>KAT8</th>\n",
       "      <th>SATB1</th>\n",
       "      <th>ZNF689</th>\n",
       "      <th>USP25</th>\n",
       "      <th>CLIC1</th>\n",
       "      <th>HLA-DQB1</th>\n",
       "      <th>NOD2</th>\n",
       "      <th>SYT11</th>\n",
       "      <th>...</th>\n",
       "      <th>LRRC37A4P</th>\n",
       "      <th>HLA-DRB1</th>\n",
       "      <th>BCKDK</th>\n",
       "      <th>GBA</th>\n",
       "      <th>LMNA</th>\n",
       "      <th>SNCA</th>\n",
       "      <th>ARL17A</th>\n",
       "      <th>VKORC1L1</th>\n",
       "      <th>CYLD</th>\n",
       "      <th>ITGAM</th>\n",
       "    </tr>\n",
       "    <tr>\n",
       "      <th>Sample ID</th>\n",
       "      <th></th>\n",
       "      <th></th>\n",
       "      <th></th>\n",
       "      <th></th>\n",
       "      <th></th>\n",
       "      <th></th>\n",
       "      <th></th>\n",
       "      <th></th>\n",
       "      <th></th>\n",
       "      <th></th>\n",
       "      <th></th>\n",
       "      <th></th>\n",
       "      <th></th>\n",
       "      <th></th>\n",
       "      <th></th>\n",
       "      <th></th>\n",
       "      <th></th>\n",
       "      <th></th>\n",
       "      <th></th>\n",
       "      <th></th>\n",
       "      <th></th>\n",
       "    </tr>\n",
       "  </thead>\n",
       "  <tbody>\n",
       "    <tr>\n",
       "      <th>6160</th>\n",
       "      <td>20.242665</td>\n",
       "      <td>22.149355</td>\n",
       "      <td>22.481120</td>\n",
       "      <td>23.955208</td>\n",
       "      <td>999.00000</td>\n",
       "      <td>20.518935</td>\n",
       "      <td>15.507264</td>\n",
       "      <td>999.000000</td>\n",
       "      <td>999</td>\n",
       "      <td>999.000000</td>\n",
       "      <td>...</td>\n",
       "      <td>999</td>\n",
       "      <td>19.287314</td>\n",
       "      <td>19.558290</td>\n",
       "      <td>18.078767</td>\n",
       "      <td>17.442708</td>\n",
       "      <td>19.600444</td>\n",
       "      <td>24.578219</td>\n",
       "      <td>24.555691</td>\n",
       "      <td>22.372868</td>\n",
       "      <td>19.276714</td>\n",
       "    </tr>\n",
       "    <tr>\n",
       "      <th>6223</th>\n",
       "      <td>19.942183</td>\n",
       "      <td>999.000000</td>\n",
       "      <td>23.465341</td>\n",
       "      <td>999.000000</td>\n",
       "      <td>23.73799</td>\n",
       "      <td>22.341004</td>\n",
       "      <td>16.980441</td>\n",
       "      <td>999.000000</td>\n",
       "      <td>999</td>\n",
       "      <td>24.733509</td>\n",
       "      <td>...</td>\n",
       "      <td>999</td>\n",
       "      <td>17.373892</td>\n",
       "      <td>20.204666</td>\n",
       "      <td>19.955245</td>\n",
       "      <td>18.956920</td>\n",
       "      <td>20.923120</td>\n",
       "      <td>24.185184</td>\n",
       "      <td>24.725951</td>\n",
       "      <td>22.483926</td>\n",
       "      <td>21.008445</td>\n",
       "    </tr>\n",
       "    <tr>\n",
       "      <th>6294</th>\n",
       "      <td>26.137418</td>\n",
       "      <td>999.000000</td>\n",
       "      <td>999.000000</td>\n",
       "      <td>999.000000</td>\n",
       "      <td>999.00000</td>\n",
       "      <td>999.000000</td>\n",
       "      <td>24.198615</td>\n",
       "      <td>999.000000</td>\n",
       "      <td>999</td>\n",
       "      <td>999.000000</td>\n",
       "      <td>...</td>\n",
       "      <td>999</td>\n",
       "      <td>999.000000</td>\n",
       "      <td>999.000000</td>\n",
       "      <td>999.000000</td>\n",
       "      <td>999.000000</td>\n",
       "      <td>999.000000</td>\n",
       "      <td>26.401332</td>\n",
       "      <td>999.000000</td>\n",
       "      <td>999.000000</td>\n",
       "      <td>999.000000</td>\n",
       "    </tr>\n",
       "    <tr>\n",
       "      <th>6124</th>\n",
       "      <td>24.259192</td>\n",
       "      <td>999.000000</td>\n",
       "      <td>999.000000</td>\n",
       "      <td>999.000000</td>\n",
       "      <td>999.00000</td>\n",
       "      <td>26.168270</td>\n",
       "      <td>21.344870</td>\n",
       "      <td>27.093832</td>\n",
       "      <td>999</td>\n",
       "      <td>999.000000</td>\n",
       "      <td>...</td>\n",
       "      <td>999</td>\n",
       "      <td>22.252675</td>\n",
       "      <td>23.434359</td>\n",
       "      <td>23.204965</td>\n",
       "      <td>23.256497</td>\n",
       "      <td>999.000000</td>\n",
       "      <td>999.000000</td>\n",
       "      <td>999.000000</td>\n",
       "      <td>999.000000</td>\n",
       "      <td>24.371282</td>\n",
       "    </tr>\n",
       "    <tr>\n",
       "      <th>6369</th>\n",
       "      <td>22.692935</td>\n",
       "      <td>999.000000</td>\n",
       "      <td>25.304070</td>\n",
       "      <td>999.000000</td>\n",
       "      <td>999.00000</td>\n",
       "      <td>27.527350</td>\n",
       "      <td>19.484585</td>\n",
       "      <td>999.000000</td>\n",
       "      <td>999</td>\n",
       "      <td>999.000000</td>\n",
       "      <td>...</td>\n",
       "      <td>999</td>\n",
       "      <td>19.917700</td>\n",
       "      <td>22.394269</td>\n",
       "      <td>22.252705</td>\n",
       "      <td>21.558285</td>\n",
       "      <td>23.920612</td>\n",
       "      <td>27.458156</td>\n",
       "      <td>26.761680</td>\n",
       "      <td>25.870632</td>\n",
       "      <td>24.061691</td>\n",
       "    </tr>\n",
       "  </tbody>\n",
       "</table>\n",
       "<p>5 rows × 44 columns</p>\n",
       "</div>"
      ],
      "text/plain": [
       "            ATP6V0A1       ERCC8        KAT8       SATB1     ZNF689  \\\n",
       "Sample ID                                                             \n",
       "6160       20.242665   22.149355   22.481120   23.955208  999.00000   \n",
       "6223       19.942183  999.000000   23.465341  999.000000   23.73799   \n",
       "6294       26.137418  999.000000  999.000000  999.000000  999.00000   \n",
       "6124       24.259192  999.000000  999.000000  999.000000  999.00000   \n",
       "6369       22.692935  999.000000   25.304070  999.000000  999.00000   \n",
       "\n",
       "                USP25      CLIC1    HLA-DQB1  NOD2       SYT11  ...  \\\n",
       "Sample ID                                                       ...   \n",
       "6160        20.518935  15.507264  999.000000   999  999.000000  ...   \n",
       "6223        22.341004  16.980441  999.000000   999   24.733509  ...   \n",
       "6294       999.000000  24.198615  999.000000   999  999.000000  ...   \n",
       "6124        26.168270  21.344870   27.093832   999  999.000000  ...   \n",
       "6369        27.527350  19.484585  999.000000   999  999.000000  ...   \n",
       "\n",
       "           LRRC37A4P    HLA-DRB1       BCKDK         GBA        LMNA  \\\n",
       "Sample ID                                                              \n",
       "6160             999   19.287314   19.558290   18.078767   17.442708   \n",
       "6223             999   17.373892   20.204666   19.955245   18.956920   \n",
       "6294             999  999.000000  999.000000  999.000000  999.000000   \n",
       "6124             999   22.252675   23.434359   23.204965   23.256497   \n",
       "6369             999   19.917700   22.394269   22.252705   21.558285   \n",
       "\n",
       "                 SNCA      ARL17A    VKORC1L1        CYLD       ITGAM  \n",
       "Sample ID                                                              \n",
       "6160        19.600444   24.578219   24.555691   22.372868   19.276714  \n",
       "6223        20.923120   24.185184   24.725951   22.483926   21.008445  \n",
       "6294       999.000000   26.401332  999.000000  999.000000  999.000000  \n",
       "6124       999.000000  999.000000  999.000000  999.000000   24.371282  \n",
       "6369        23.920612   27.458156   26.761680   25.870632   24.061691  \n",
       "\n",
       "[5 rows x 44 columns]"
      ]
     },
     "execution_count": 106,
     "metadata": {},
     "output_type": "execute_result"
    }
   ],
   "source": [
    "df6"
   ]
  },
  {
   "cell_type": "code",
   "execution_count": 108,
   "metadata": {},
   "outputs": [],
   "source": [
    "df7 = pd.read_excel('1.xlsx', index_col='Sample ID', header=0, usecols=my_col[0:10:1])"
   ]
  },
  {
   "cell_type": "code",
   "execution_count": 109,
   "metadata": {},
   "outputs": [
    {
     "data": {
      "text/html": [
       "<div>\n",
       "<style scoped>\n",
       "    .dataframe tbody tr th:only-of-type {\n",
       "        vertical-align: middle;\n",
       "    }\n",
       "\n",
       "    .dataframe tbody tr th {\n",
       "        vertical-align: top;\n",
       "    }\n",
       "\n",
       "    .dataframe thead th {\n",
       "        text-align: right;\n",
       "    }\n",
       "</style>\n",
       "<table border=\"1\" class=\"dataframe\">\n",
       "  <thead>\n",
       "    <tr style=\"text-align: right;\">\n",
       "      <th></th>\n",
       "      <th>ATP6V0A1</th>\n",
       "      <th>ERCC8</th>\n",
       "      <th>KAT8</th>\n",
       "      <th>SATB1</th>\n",
       "      <th>ZNF689</th>\n",
       "      <th>USP25</th>\n",
       "      <th>CLIC1</th>\n",
       "      <th>HLA-DQB1</th>\n",
       "      <th>NOD2</th>\n",
       "    </tr>\n",
       "    <tr>\n",
       "      <th>Sample ID</th>\n",
       "      <th></th>\n",
       "      <th></th>\n",
       "      <th></th>\n",
       "      <th></th>\n",
       "      <th></th>\n",
       "      <th></th>\n",
       "      <th></th>\n",
       "      <th></th>\n",
       "      <th></th>\n",
       "    </tr>\n",
       "  </thead>\n",
       "  <tbody>\n",
       "    <tr>\n",
       "      <th>6160</th>\n",
       "      <td>20.242665</td>\n",
       "      <td>22.149355</td>\n",
       "      <td>22.481120</td>\n",
       "      <td>23.955208</td>\n",
       "      <td>999.00000</td>\n",
       "      <td>20.518935</td>\n",
       "      <td>15.507264</td>\n",
       "      <td>999.000000</td>\n",
       "      <td>999</td>\n",
       "    </tr>\n",
       "    <tr>\n",
       "      <th>6223</th>\n",
       "      <td>19.942183</td>\n",
       "      <td>999.000000</td>\n",
       "      <td>23.465341</td>\n",
       "      <td>999.000000</td>\n",
       "      <td>23.73799</td>\n",
       "      <td>22.341004</td>\n",
       "      <td>16.980441</td>\n",
       "      <td>999.000000</td>\n",
       "      <td>999</td>\n",
       "    </tr>\n",
       "    <tr>\n",
       "      <th>6294</th>\n",
       "      <td>26.137418</td>\n",
       "      <td>999.000000</td>\n",
       "      <td>999.000000</td>\n",
       "      <td>999.000000</td>\n",
       "      <td>999.00000</td>\n",
       "      <td>999.000000</td>\n",
       "      <td>24.198615</td>\n",
       "      <td>999.000000</td>\n",
       "      <td>999</td>\n",
       "    </tr>\n",
       "    <tr>\n",
       "      <th>6124</th>\n",
       "      <td>24.259192</td>\n",
       "      <td>999.000000</td>\n",
       "      <td>999.000000</td>\n",
       "      <td>999.000000</td>\n",
       "      <td>999.00000</td>\n",
       "      <td>26.168270</td>\n",
       "      <td>21.344870</td>\n",
       "      <td>27.093832</td>\n",
       "      <td>999</td>\n",
       "    </tr>\n",
       "    <tr>\n",
       "      <th>6369</th>\n",
       "      <td>22.692935</td>\n",
       "      <td>999.000000</td>\n",
       "      <td>25.304070</td>\n",
       "      <td>999.000000</td>\n",
       "      <td>999.00000</td>\n",
       "      <td>27.527350</td>\n",
       "      <td>19.484585</td>\n",
       "      <td>999.000000</td>\n",
       "      <td>999</td>\n",
       "    </tr>\n",
       "  </tbody>\n",
       "</table>\n",
       "</div>"
      ],
      "text/plain": [
       "            ATP6V0A1       ERCC8        KAT8       SATB1     ZNF689  \\\n",
       "Sample ID                                                             \n",
       "6160       20.242665   22.149355   22.481120   23.955208  999.00000   \n",
       "6223       19.942183  999.000000   23.465341  999.000000   23.73799   \n",
       "6294       26.137418  999.000000  999.000000  999.000000  999.00000   \n",
       "6124       24.259192  999.000000  999.000000  999.000000  999.00000   \n",
       "6369       22.692935  999.000000   25.304070  999.000000  999.00000   \n",
       "\n",
       "                USP25      CLIC1    HLA-DQB1  NOD2  \n",
       "Sample ID                                           \n",
       "6160        20.518935  15.507264  999.000000   999  \n",
       "6223        22.341004  16.980441  999.000000   999  \n",
       "6294       999.000000  24.198615  999.000000   999  \n",
       "6124        26.168270  21.344870   27.093832   999  \n",
       "6369        27.527350  19.484585  999.000000   999  "
      ]
     },
     "execution_count": 109,
     "metadata": {},
     "output_type": "execute_result"
    }
   ],
   "source": [
    "df7"
   ]
  },
  {
   "cell_type": "code",
   "execution_count": 110,
   "metadata": {},
   "outputs": [],
   "source": [
    "df8 = pd.read_excel('1.xlsx', index_col='Sample ID', header=0, usecols=my_col[0:10:2])"
   ]
  },
  {
   "cell_type": "code",
   "execution_count": 111,
   "metadata": {},
   "outputs": [
    {
     "data": {
      "text/html": [
       "<div>\n",
       "<style scoped>\n",
       "    .dataframe tbody tr th:only-of-type {\n",
       "        vertical-align: middle;\n",
       "    }\n",
       "\n",
       "    .dataframe tbody tr th {\n",
       "        vertical-align: top;\n",
       "    }\n",
       "\n",
       "    .dataframe thead th {\n",
       "        text-align: right;\n",
       "    }\n",
       "</style>\n",
       "<table border=\"1\" class=\"dataframe\">\n",
       "  <thead>\n",
       "    <tr style=\"text-align: right;\">\n",
       "      <th></th>\n",
       "      <th>ERCC8</th>\n",
       "      <th>SATB1</th>\n",
       "      <th>USP25</th>\n",
       "      <th>HLA-DQB1</th>\n",
       "    </tr>\n",
       "    <tr>\n",
       "      <th>Sample ID</th>\n",
       "      <th></th>\n",
       "      <th></th>\n",
       "      <th></th>\n",
       "      <th></th>\n",
       "    </tr>\n",
       "  </thead>\n",
       "  <tbody>\n",
       "    <tr>\n",
       "      <th>6160</th>\n",
       "      <td>22.149355</td>\n",
       "      <td>23.955208</td>\n",
       "      <td>20.518935</td>\n",
       "      <td>999.000000</td>\n",
       "    </tr>\n",
       "    <tr>\n",
       "      <th>6223</th>\n",
       "      <td>999.000000</td>\n",
       "      <td>999.000000</td>\n",
       "      <td>22.341004</td>\n",
       "      <td>999.000000</td>\n",
       "    </tr>\n",
       "    <tr>\n",
       "      <th>6294</th>\n",
       "      <td>999.000000</td>\n",
       "      <td>999.000000</td>\n",
       "      <td>999.000000</td>\n",
       "      <td>999.000000</td>\n",
       "    </tr>\n",
       "    <tr>\n",
       "      <th>6124</th>\n",
       "      <td>999.000000</td>\n",
       "      <td>999.000000</td>\n",
       "      <td>26.168270</td>\n",
       "      <td>27.093832</td>\n",
       "    </tr>\n",
       "    <tr>\n",
       "      <th>6369</th>\n",
       "      <td>999.000000</td>\n",
       "      <td>999.000000</td>\n",
       "      <td>27.527350</td>\n",
       "      <td>999.000000</td>\n",
       "    </tr>\n",
       "  </tbody>\n",
       "</table>\n",
       "</div>"
      ],
      "text/plain": [
       "                ERCC8       SATB1       USP25    HLA-DQB1\n",
       "Sample ID                                                \n",
       "6160        22.149355   23.955208   20.518935  999.000000\n",
       "6223       999.000000  999.000000   22.341004  999.000000\n",
       "6294       999.000000  999.000000  999.000000  999.000000\n",
       "6124       999.000000  999.000000   26.168270   27.093832\n",
       "6369       999.000000  999.000000   27.527350  999.000000"
      ]
     },
     "execution_count": 111,
     "metadata": {},
     "output_type": "execute_result"
    }
   ],
   "source": [
    "df8"
   ]
  },
  {
   "cell_type": "code",
   "execution_count": 112,
   "metadata": {},
   "outputs": [
    {
     "data": {
      "text/plain": [
       "pandas.core.indexes.base.Index"
      ]
     },
     "execution_count": 112,
     "metadata": {},
     "output_type": "execute_result"
    }
   ],
   "source": [
    "type(my_col)  # index type object, not a list"
   ]
  },
  {
   "cell_type": "code",
   "execution_count": 113,
   "metadata": {},
   "outputs": [],
   "source": [
    "df9 = pd.read_excel('1.xlsx', index_col='Sample ID', header=0, usecols=my_col[0:10:2], na_values = 999.0)\n",
    "# how to avoid a null value"
   ]
  },
  {
   "cell_type": "code",
   "execution_count": 114,
   "metadata": {},
   "outputs": [
    {
     "data": {
      "text/html": [
       "<div>\n",
       "<style scoped>\n",
       "    .dataframe tbody tr th:only-of-type {\n",
       "        vertical-align: middle;\n",
       "    }\n",
       "\n",
       "    .dataframe tbody tr th {\n",
       "        vertical-align: top;\n",
       "    }\n",
       "\n",
       "    .dataframe thead th {\n",
       "        text-align: right;\n",
       "    }\n",
       "</style>\n",
       "<table border=\"1\" class=\"dataframe\">\n",
       "  <thead>\n",
       "    <tr style=\"text-align: right;\">\n",
       "      <th></th>\n",
       "      <th>ERCC8</th>\n",
       "      <th>SATB1</th>\n",
       "      <th>USP25</th>\n",
       "      <th>HLA-DQB1</th>\n",
       "    </tr>\n",
       "    <tr>\n",
       "      <th>Sample ID</th>\n",
       "      <th></th>\n",
       "      <th></th>\n",
       "      <th></th>\n",
       "      <th></th>\n",
       "    </tr>\n",
       "  </thead>\n",
       "  <tbody>\n",
       "    <tr>\n",
       "      <th>6160</th>\n",
       "      <td>22.149355</td>\n",
       "      <td>23.955208</td>\n",
       "      <td>20.518935</td>\n",
       "      <td>NaN</td>\n",
       "    </tr>\n",
       "    <tr>\n",
       "      <th>6223</th>\n",
       "      <td>NaN</td>\n",
       "      <td>NaN</td>\n",
       "      <td>22.341004</td>\n",
       "      <td>NaN</td>\n",
       "    </tr>\n",
       "    <tr>\n",
       "      <th>6294</th>\n",
       "      <td>NaN</td>\n",
       "      <td>NaN</td>\n",
       "      <td>NaN</td>\n",
       "      <td>NaN</td>\n",
       "    </tr>\n",
       "    <tr>\n",
       "      <th>6124</th>\n",
       "      <td>NaN</td>\n",
       "      <td>NaN</td>\n",
       "      <td>26.168270</td>\n",
       "      <td>27.093832</td>\n",
       "    </tr>\n",
       "    <tr>\n",
       "      <th>6369</th>\n",
       "      <td>NaN</td>\n",
       "      <td>NaN</td>\n",
       "      <td>27.527350</td>\n",
       "      <td>NaN</td>\n",
       "    </tr>\n",
       "  </tbody>\n",
       "</table>\n",
       "</div>"
      ],
      "text/plain": [
       "               ERCC8      SATB1      USP25   HLA-DQB1\n",
       "Sample ID                                            \n",
       "6160       22.149355  23.955208  20.518935        NaN\n",
       "6223             NaN        NaN  22.341004        NaN\n",
       "6294             NaN        NaN        NaN        NaN\n",
       "6124             NaN        NaN  26.168270  27.093832\n",
       "6369             NaN        NaN  27.527350        NaN"
      ]
     },
     "execution_count": 114,
     "metadata": {},
     "output_type": "execute_result"
    }
   ],
   "source": [
    "df9"
   ]
  },
  {
   "cell_type": "code",
   "execution_count": 120,
   "metadata": {},
   "outputs": [],
   "source": [
    "df10 = pd.read_excel('1.xlsx', index_col='Sample ID', header=0, usecols=my_col, na_values=999.0)\n",
    "# how to avoid int value 999 from df10? we removed from float, don't know. it was a homework"
   ]
  },
  {
   "cell_type": "code",
   "execution_count": 121,
   "metadata": {},
   "outputs": [
    {
     "data": {
      "text/html": [
       "<div>\n",
       "<style scoped>\n",
       "    .dataframe tbody tr th:only-of-type {\n",
       "        vertical-align: middle;\n",
       "    }\n",
       "\n",
       "    .dataframe tbody tr th {\n",
       "        vertical-align: top;\n",
       "    }\n",
       "\n",
       "    .dataframe thead th {\n",
       "        text-align: right;\n",
       "    }\n",
       "</style>\n",
       "<table border=\"1\" class=\"dataframe\">\n",
       "  <thead>\n",
       "    <tr style=\"text-align: right;\">\n",
       "      <th></th>\n",
       "      <th>ATP6V0A1</th>\n",
       "      <th>ERCC8</th>\n",
       "      <th>KAT8</th>\n",
       "      <th>SATB1</th>\n",
       "      <th>ZNF689</th>\n",
       "      <th>USP25</th>\n",
       "      <th>CLIC1</th>\n",
       "      <th>HLA-DQB1</th>\n",
       "      <th>NOD2</th>\n",
       "      <th>SYT11</th>\n",
       "      <th>...</th>\n",
       "      <th>LRRC37A4P</th>\n",
       "      <th>HLA-DRB1</th>\n",
       "      <th>BCKDK</th>\n",
       "      <th>GBA</th>\n",
       "      <th>LMNA</th>\n",
       "      <th>SNCA</th>\n",
       "      <th>ARL17A</th>\n",
       "      <th>VKORC1L1</th>\n",
       "      <th>CYLD</th>\n",
       "      <th>ITGAM</th>\n",
       "    </tr>\n",
       "    <tr>\n",
       "      <th>Sample ID</th>\n",
       "      <th></th>\n",
       "      <th></th>\n",
       "      <th></th>\n",
       "      <th></th>\n",
       "      <th></th>\n",
       "      <th></th>\n",
       "      <th></th>\n",
       "      <th></th>\n",
       "      <th></th>\n",
       "      <th></th>\n",
       "      <th></th>\n",
       "      <th></th>\n",
       "      <th></th>\n",
       "      <th></th>\n",
       "      <th></th>\n",
       "      <th></th>\n",
       "      <th></th>\n",
       "      <th></th>\n",
       "      <th></th>\n",
       "      <th></th>\n",
       "      <th></th>\n",
       "    </tr>\n",
       "  </thead>\n",
       "  <tbody>\n",
       "    <tr>\n",
       "      <th>6160</th>\n",
       "      <td>20.242665</td>\n",
       "      <td>22.149355</td>\n",
       "      <td>22.481120</td>\n",
       "      <td>23.955208</td>\n",
       "      <td>NaN</td>\n",
       "      <td>20.518935</td>\n",
       "      <td>15.507264</td>\n",
       "      <td>NaN</td>\n",
       "      <td>999</td>\n",
       "      <td>NaN</td>\n",
       "      <td>...</td>\n",
       "      <td>999</td>\n",
       "      <td>19.287314</td>\n",
       "      <td>19.558290</td>\n",
       "      <td>18.078767</td>\n",
       "      <td>17.442708</td>\n",
       "      <td>19.600444</td>\n",
       "      <td>24.578219</td>\n",
       "      <td>24.555691</td>\n",
       "      <td>22.372868</td>\n",
       "      <td>19.276714</td>\n",
       "    </tr>\n",
       "    <tr>\n",
       "      <th>6223</th>\n",
       "      <td>19.942183</td>\n",
       "      <td>NaN</td>\n",
       "      <td>23.465341</td>\n",
       "      <td>NaN</td>\n",
       "      <td>23.73799</td>\n",
       "      <td>22.341004</td>\n",
       "      <td>16.980441</td>\n",
       "      <td>NaN</td>\n",
       "      <td>999</td>\n",
       "      <td>24.733509</td>\n",
       "      <td>...</td>\n",
       "      <td>999</td>\n",
       "      <td>17.373892</td>\n",
       "      <td>20.204666</td>\n",
       "      <td>19.955245</td>\n",
       "      <td>18.956920</td>\n",
       "      <td>20.923120</td>\n",
       "      <td>24.185184</td>\n",
       "      <td>24.725951</td>\n",
       "      <td>22.483926</td>\n",
       "      <td>21.008445</td>\n",
       "    </tr>\n",
       "    <tr>\n",
       "      <th>6294</th>\n",
       "      <td>26.137418</td>\n",
       "      <td>NaN</td>\n",
       "      <td>NaN</td>\n",
       "      <td>NaN</td>\n",
       "      <td>NaN</td>\n",
       "      <td>NaN</td>\n",
       "      <td>24.198615</td>\n",
       "      <td>NaN</td>\n",
       "      <td>999</td>\n",
       "      <td>NaN</td>\n",
       "      <td>...</td>\n",
       "      <td>999</td>\n",
       "      <td>NaN</td>\n",
       "      <td>NaN</td>\n",
       "      <td>NaN</td>\n",
       "      <td>NaN</td>\n",
       "      <td>NaN</td>\n",
       "      <td>26.401332</td>\n",
       "      <td>NaN</td>\n",
       "      <td>NaN</td>\n",
       "      <td>NaN</td>\n",
       "    </tr>\n",
       "    <tr>\n",
       "      <th>6124</th>\n",
       "      <td>24.259192</td>\n",
       "      <td>NaN</td>\n",
       "      <td>NaN</td>\n",
       "      <td>NaN</td>\n",
       "      <td>NaN</td>\n",
       "      <td>26.168270</td>\n",
       "      <td>21.344870</td>\n",
       "      <td>27.093832</td>\n",
       "      <td>999</td>\n",
       "      <td>NaN</td>\n",
       "      <td>...</td>\n",
       "      <td>999</td>\n",
       "      <td>22.252675</td>\n",
       "      <td>23.434359</td>\n",
       "      <td>23.204965</td>\n",
       "      <td>23.256497</td>\n",
       "      <td>NaN</td>\n",
       "      <td>NaN</td>\n",
       "      <td>NaN</td>\n",
       "      <td>NaN</td>\n",
       "      <td>24.371282</td>\n",
       "    </tr>\n",
       "    <tr>\n",
       "      <th>6369</th>\n",
       "      <td>22.692935</td>\n",
       "      <td>NaN</td>\n",
       "      <td>25.304070</td>\n",
       "      <td>NaN</td>\n",
       "      <td>NaN</td>\n",
       "      <td>27.527350</td>\n",
       "      <td>19.484585</td>\n",
       "      <td>NaN</td>\n",
       "      <td>999</td>\n",
       "      <td>NaN</td>\n",
       "      <td>...</td>\n",
       "      <td>999</td>\n",
       "      <td>19.917700</td>\n",
       "      <td>22.394269</td>\n",
       "      <td>22.252705</td>\n",
       "      <td>21.558285</td>\n",
       "      <td>23.920612</td>\n",
       "      <td>27.458156</td>\n",
       "      <td>26.761680</td>\n",
       "      <td>25.870632</td>\n",
       "      <td>24.061691</td>\n",
       "    </tr>\n",
       "  </tbody>\n",
       "</table>\n",
       "<p>5 rows × 44 columns</p>\n",
       "</div>"
      ],
      "text/plain": [
       "            ATP6V0A1      ERCC8       KAT8      SATB1    ZNF689      USP25  \\\n",
       "Sample ID                                                                    \n",
       "6160       20.242665  22.149355  22.481120  23.955208       NaN  20.518935   \n",
       "6223       19.942183        NaN  23.465341        NaN  23.73799  22.341004   \n",
       "6294       26.137418        NaN        NaN        NaN       NaN        NaN   \n",
       "6124       24.259192        NaN        NaN        NaN       NaN  26.168270   \n",
       "6369       22.692935        NaN  25.304070        NaN       NaN  27.527350   \n",
       "\n",
       "               CLIC1   HLA-DQB1  NOD2      SYT11  ...  LRRC37A4P   HLA-DRB1  \\\n",
       "Sample ID                                         ...                         \n",
       "6160       15.507264        NaN   999        NaN  ...        999  19.287314   \n",
       "6223       16.980441        NaN   999  24.733509  ...        999  17.373892   \n",
       "6294       24.198615        NaN   999        NaN  ...        999        NaN   \n",
       "6124       21.344870  27.093832   999        NaN  ...        999  22.252675   \n",
       "6369       19.484585        NaN   999        NaN  ...        999  19.917700   \n",
       "\n",
       "               BCKDK        GBA       LMNA       SNCA     ARL17A   VKORC1L1  \\\n",
       "Sample ID                                                                     \n",
       "6160       19.558290  18.078767  17.442708  19.600444  24.578219  24.555691   \n",
       "6223       20.204666  19.955245  18.956920  20.923120  24.185184  24.725951   \n",
       "6294             NaN        NaN        NaN        NaN  26.401332        NaN   \n",
       "6124       23.434359  23.204965  23.256497        NaN        NaN        NaN   \n",
       "6369       22.394269  22.252705  21.558285  23.920612  27.458156  26.761680   \n",
       "\n",
       "                CYLD      ITGAM  \n",
       "Sample ID                        \n",
       "6160       22.372868  19.276714  \n",
       "6223       22.483926  21.008445  \n",
       "6294             NaN        NaN  \n",
       "6124             NaN  24.371282  \n",
       "6369       25.870632  24.061691  \n",
       "\n",
       "[5 rows x 44 columns]"
      ]
     },
     "execution_count": 121,
     "metadata": {},
     "output_type": "execute_result"
    }
   ],
   "source": [
    "df10"
   ]
  },
  {
   "cell_type": "code",
   "execution_count": 122,
   "metadata": {},
   "outputs": [],
   "source": [
    "my_col= col[0:45]"
   ]
  },
  {
   "cell_type": "code",
   "execution_count": 123,
   "metadata": {},
   "outputs": [
    {
     "data": {
      "text/plain": [
       "Index(['Sample ID', 'ATP6V0A1', 'ERCC8', 'KAT8', 'SATB1', 'ZNF689', 'USP25',\n",
       "       'CLIC1', 'HLA-DQB1', 'NOD2', 'SYT11', 'INPP5F', 'CD14', 'BAG3', 'GALC',\n",
       "       'KPNA1', 'SCARB2', 'ALAS1', 'VAMP4', 'CNOT1', 'HSPA1A', 'PAM', 'TIAL1',\n",
       "       'LRRC37A2', 'HLA-DRA', 'BAG6', 'GAPDH', 'LAT', 'SIPA1L2', 'ARHGAP27',\n",
       "       'TMEM175', 'CSNK2B', 'IL1R2', 'PARP9', 'TOM1L2', 'LRRC37A4P',\n",
       "       'HLA-DRB1', 'BCKDK', 'GBA', 'LMNA', 'SNCA', 'ARL17A', 'VKORC1L1',\n",
       "       'CYLD', 'ITGAM'],\n",
       "      dtype='object')"
      ]
     },
     "execution_count": 123,
     "metadata": {},
     "output_type": "execute_result"
    }
   ],
   "source": [
    "my_col"
   ]
  },
  {
   "cell_type": "code",
   "execution_count": null,
   "metadata": {},
   "outputs": [],
   "source": []
  }
 ],
 "metadata": {
  "kernelspec": {
   "display_name": "Python 3",
   "language": "python",
   "name": "python3"
  },
  "language_info": {
   "codemirror_mode": {
    "name": "ipython",
    "version": 3
   },
   "file_extension": ".py",
   "mimetype": "text/x-python",
   "name": "python",
   "nbconvert_exporter": "python",
   "pygments_lexer": "ipython3",
   "version": "3.8.3"
  }
 },
 "nbformat": 4,
 "nbformat_minor": 4
}
